{
  "nbformat": 4,
  "nbformat_minor": 0,
  "metadata": {
    "colab": {
      "provenance": [],
      "authorship_tag": "ABX9TyPXMb3thVvHfxaBe0jn+L+K",
      "include_colab_link": true
    },
    "kernelspec": {
      "name": "python3",
      "display_name": "Python 3"
    },
    "language_info": {
      "name": "python"
    }
  },
  "cells": [
    {
      "cell_type": "markdown",
      "metadata": {
        "id": "view-in-github",
        "colab_type": "text"
      },
      "source": [
        "<a href=\"https://colab.research.google.com/github/Ugot-Aaron-Paul/58013-LinearAlgebra/blob/main/Lab%206%20-%20MULTIDIMENSIONAL%20VECTORS.ipynb\" target=\"_parent\"><img src=\"https://colab.research.google.com/assets/colab-badge.svg\" alt=\"Open In Colab\"/></a>"
      ]
    },
    {
      "cell_type": "code",
      "execution_count": 2,
      "metadata": {
        "id": "J5K5lp9O4Oah",
        "colab": {
          "base_uri": "https://localhost:8080/"
        },
        "outputId": "90f26de3-d86b-4016-c412-ac9a0848e4c2"
      },
      "outputs": [
        {
          "output_type": "stream",
          "name": "stdout",
          "text": [
            "[[2, 4, 6, 8, 10], [3, 6, 9, 12, 15], [4, 8, 12, 16, 20]]\n"
          ]
        }
      ],
      "source": [
        "# Python program to demonstrate printing\n",
        "# of complete multidimensional list\n",
        "a = [[2, 4, 6, 8, 10], [3, 6, 9, 12, 15], [4, 8, 12, 16, 20]]\n",
        "print(a)\n"
      ]
    },
    {
      "cell_type": "code",
      "source": [
        "# Python program to demonstrate printing\n",
        "# of complete multidimensional list row\n",
        "# by row.\n",
        "a = [[2, 4, 6, 8, 10], [3, 6, 9, 12, 15], [4, 8, 12, 16, 20]]\n",
        "for record in a:\n",
        "    print(record)"
      ],
      "metadata": {
        "colab": {
          "base_uri": "https://localhost:8080/"
        },
        "id": "3JeE41hVnjae",
        "outputId": "846d2b5e-63af-4376-e448-2247645c171f"
      },
      "execution_count": 3,
      "outputs": [
        {
          "output_type": "stream",
          "name": "stdout",
          "text": [
            "[2, 4, 6, 8, 10]\n",
            "[3, 6, 9, 12, 15]\n",
            "[4, 8, 12, 16, 20]\n"
          ]
        }
      ]
    },
    {
      "cell_type": "code",
      "source": [
        "# Python program to demonstrate that we\n",
        "# can access multidimensional list using\n",
        "# square brackets\n",
        "a = [ [2, 4, 6, 8 ],\n",
        "    [ 1, 3, 5, 7 ],\n",
        "    [ 8, 6, 4, 2 ],\n",
        "    [ 7, 5, 3, 1 ] ]\n",
        "\n",
        "for i in range(len(a)) :\n",
        "    for j in range(len(a[i])) :\n",
        "        print(a[i][j], end=\" \")\n",
        "    print()"
      ],
      "metadata": {
        "colab": {
          "base_uri": "https://localhost:8080/"
        },
        "id": "IIetTG3Wnla3",
        "outputId": "923ac2c5-365d-4466-b4d1-f3721bf7d377"
      },
      "execution_count": 4,
      "outputs": [
        {
          "output_type": "stream",
          "name": "stdout",
          "text": [
            "2 4 6 8 \n",
            "1 3 5 7 \n",
            "8 6 4 2 \n",
            "7 5 3 1 \n"
          ]
        }
      ]
    }
  ]
}