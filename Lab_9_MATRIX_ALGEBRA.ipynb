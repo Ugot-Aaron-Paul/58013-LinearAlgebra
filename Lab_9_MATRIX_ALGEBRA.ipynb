{
  "nbformat": 4,
  "nbformat_minor": 0,
  "metadata": {
    "colab": {
      "provenance": [],
      "authorship_tag": "ABX9TyP3xuw7NqrK0mhJNkt4QmzG",
      "include_colab_link": true
    },
    "kernelspec": {
      "name": "python3",
      "display_name": "Python 3"
    },
    "language_info": {
      "name": "python"
    }
  },
  "cells": [
    {
      "cell_type": "markdown",
      "metadata": {
        "id": "view-in-github",
        "colab_type": "text"
      },
      "source": [
        "<a href=\"https://colab.research.google.com/github/Ugot-Aaron-Paul/58013-LinearAlgebra/blob/main/Lab_9_MATRIX_ALGEBRA.ipynb\" target=\"_parent\"><img src=\"https://colab.research.google.com/assets/colab-badge.svg\" alt=\"Open In Colab\"/></a>"
      ]
    },
    {
      "cell_type": "markdown",
      "source": [
        "*Associative*"
      ],
      "metadata": {
        "id": "mDL2uvFigx52"
      }
    },
    {
      "cell_type": "code",
      "execution_count": 1,
      "metadata": {
        "id": "J5K5lp9O4Oah",
        "colab": {
          "base_uri": "https://localhost:8080/"
        },
        "outputId": "c3e89308-e543-4396-f7ca-cb5a4e453b4c"
      },
      "outputs": [
        {
          "output_type": "stream",
          "name": "stdout",
          "text": [
            "Result 1 is:\n",
            " [[186 355 263]\n",
            " [463 946 637]\n",
            " [198 406 272]]\n",
            "Result 2 is:\n",
            " [[186 355 263]\n",
            " [463 946 637]\n",
            " [198 406 272]]\n"
          ]
        }
      ],
      "source": [
        "import numpy as np\n",
        "A = np.array([[1,2,3],[9,1,1],[4,2,0]])\n",
        "B = np.array([[7,6,9],[1,1,1],[6,6,6]])\n",
        "C = np.array([[1,2,3],[5,6,7],[1,5,0]])\n",
        "\n",
        "Result1 = np.dot(np.dot(A,B),C)\n",
        "Result2 = np.dot(A,np.dot(B,C))\n",
        "\n",
        "print(\"Result 1 is:\\n\",Result1)\n",
        "\n",
        "print(\"Result 2 is:\\n\",Result2)"
      ]
    },
    {
      "cell_type": "markdown",
      "source": [
        "*Distributive*"
      ],
      "metadata": {
        "id": "otVELPV0g06g"
      }
    },
    {
      "cell_type": "code",
      "source": [
        "import numpy as np\n",
        "A = np.array([[1,2,3],[9,1,1],[4,2,0]])\n",
        "B = np.array([[7,6,9],[1,1,1],[6,6,6]])\n",
        "C = np.array([[1,2,3],[5,6,7],[1,5,0]])\n",
        "\n",
        "Result1 = np.dot(A, B + C)\n",
        "\n",
        "Result2 = np.dot(A, B) + np.dot(A, C)\n",
        "\n",
        "print(\"Result 1 is:\\n\",Result1)\n",
        "\n",
        "print(\"Result 2 is:\\n\",Result2)"
      ],
      "metadata": {
        "colab": {
          "base_uri": "https://localhost:8080/"
        },
        "id": "L3juel_gg3Dl",
        "outputId": "0cec077c-0a83-4317-89cb-a898d4c24988"
      },
      "execution_count": 2,
      "outputs": [
        {
          "output_type": "stream",
          "name": "stdout",
          "text": [
            "Result 1 is:\n",
            " [[ 41  55  46]\n",
            " [ 85  90 122]\n",
            " [ 44  46  64]]\n",
            "Result 2 is:\n",
            " [[ 41  55  46]\n",
            " [ 85  90 122]\n",
            " [ 44  46  64]]\n"
          ]
        }
      ]
    },
    {
      "cell_type": "markdown",
      "source": [
        "*Identity*"
      ],
      "metadata": {
        "id": "oXfZpYmNg7tb"
      }
    },
    {
      "cell_type": "code",
      "source": [
        "import numpy as np\n",
        "A = np.array([[1,2,3],[9,1,1],[4,2,0]])\n",
        "B = np.array([[7,6,9],[1,1,1],[6,6,6]])\n",
        "C = np.array([[1,2,3],[5,6,7],[1,5,0]])\n",
        "\n",
        "I = np.identity(3)\n",
        "\n",
        "Result1 = np.dot(A, I)\n",
        "\n",
        "Result2 = A\n",
        "\n",
        "print(\"Result 1 is:\\n\",Result1)\n",
        "\n",
        "print(\"Result 2 is:\\n\",Result2)"
      ],
      "metadata": {
        "colab": {
          "base_uri": "https://localhost:8080/"
        },
        "id": "fpSRGvI3g9sJ",
        "outputId": "ec89c02d-cdcd-4b68-8934-93835d0ce3c7"
      },
      "execution_count": 4,
      "outputs": [
        {
          "output_type": "stream",
          "name": "stdout",
          "text": [
            "Result 1 is:\n",
            " [[1. 2. 3.]\n",
            " [9. 1. 1.]\n",
            " [4. 2. 0.]]\n",
            "Result 2 is:\n",
            " [[1 2 3]\n",
            " [9 1 1]\n",
            " [4 2 0]]\n"
          ]
        }
      ]
    },
    {
      "cell_type": "markdown",
      "source": [
        "*Zero*"
      ],
      "metadata": {
        "id": "igE2TCQ_hCuY"
      }
    },
    {
      "cell_type": "code",
      "source": [
        "import numpy as np\n",
        "A = np.array([[1,2,3],[9,1,1],[4,2,0]])\n",
        "B = np.array([[7,6,9],[1,1,1],[6,6,6]])\n",
        "C = np.array([[1,2,3],[5,6,7],[1,5,0]])\n",
        "\n",
        "zero_matrix = np.zeros_like(A)\n",
        "\n",
        "Result1 = np.dot(A, zero_matrix)\n",
        "\n",
        "Result2 = zero_matrix\n",
        "\n",
        "print(\"Result 1 is:\\n\",Result1)\n",
        "\n",
        "print(\"Result 2 is:\\n\",Result2)"
      ],
      "metadata": {
        "colab": {
          "base_uri": "https://localhost:8080/"
        },
        "id": "zhoDmwz4hFfO",
        "outputId": "2794d4bf-4eb0-4442-bf40-730fa921cbfc"
      },
      "execution_count": 5,
      "outputs": [
        {
          "output_type": "stream",
          "name": "stdout",
          "text": [
            "Result 1 is:\n",
            " [[0 0 0]\n",
            " [0 0 0]\n",
            " [0 0 0]]\n",
            "Result 2 is:\n",
            " [[0 0 0]\n",
            " [0 0 0]\n",
            " [0 0 0]]\n"
          ]
        }
      ]
    },
    {
      "cell_type": "markdown",
      "source": [
        "*Scalar*"
      ],
      "metadata": {
        "id": "B7yMcasehLLz"
      }
    },
    {
      "cell_type": "code",
      "source": [
        "import numpy as np\n",
        "A = np.array([[1,2,3],[9,1,1],[4,2,0]])\n",
        "B = np.array([[7,6,9],[1,1,1],[6,6,6]])\n",
        "C = np.array([[1,2,3],[5,6,7],[1,5,0]])\n",
        "\n",
        "k = 2\n",
        "\n",
        "Result1 = np.dot(k * A, B)\n",
        "\n",
        "Result2 = k * np.dot(A, B)\n",
        "\n",
        "print(\"Result 1 is:\\n\",Result1)\n",
        "\n",
        "print(\"Result 2 is:\\n\",Result2)"
      ],
      "metadata": {
        "colab": {
          "base_uri": "https://localhost:8080/"
        },
        "id": "3VGJuWa-hOc4",
        "outputId": "e87e29ff-bf2f-45ac-fc63-ef748fabd449"
      },
      "execution_count": 6,
      "outputs": [
        {
          "output_type": "stream",
          "name": "stdout",
          "text": [
            "Result 1 is:\n",
            " [[ 54  52  58]\n",
            " [140 122 176]\n",
            " [ 60  52  76]]\n",
            "Result 2 is:\n",
            " [[ 54  52  58]\n",
            " [140 122 176]\n",
            " [ 60  52  76]]\n"
          ]
        }
      ]
    },
    {
      "cell_type": "markdown",
      "source": [
        "*Closure*"
      ],
      "metadata": {
        "id": "sMuHKw4PhV_A"
      }
    },
    {
      "cell_type": "code",
      "source": [
        "import numpy as np\n",
        "A = np.array([[1,2,3],[9,1,1],[4,2,0]])\n",
        "B = np.array([[7,6,9],[1,1,1],[6,6,6]])\n",
        "C = np.array([[1,2,3],[5,6,7],[1,5,0]])\n",
        "\n",
        "Result1 = np.dot(A, B)\n",
        "Result2 = np.dot(B, C)\n",
        "\n",
        "print(\"Result 1 is:\\n\",Result1)\n",
        "\n",
        "print(\"Result 2 is:\\n\",Result2)"
      ],
      "metadata": {
        "colab": {
          "base_uri": "https://localhost:8080/"
        },
        "id": "4TgMLNFshZVv",
        "outputId": "8bd95973-52ed-4e7c-c088-f924a27eba0e"
      },
      "execution_count": 7,
      "outputs": [
        {
          "output_type": "stream",
          "name": "stdout",
          "text": [
            "Result 1 is:\n",
            " [[27 26 29]\n",
            " [70 61 88]\n",
            " [30 26 38]]\n",
            "Result 2 is:\n",
            " [[46 95 63]\n",
            " [ 7 13 10]\n",
            " [42 78 60]]\n"
          ]
        }
      ]
    }
  ]
}