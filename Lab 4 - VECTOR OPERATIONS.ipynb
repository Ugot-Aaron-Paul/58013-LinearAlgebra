{
  "nbformat": 4,
  "nbformat_minor": 0,
  "metadata": {
    "colab": {
      "provenance": [],
      "authorship_tag": "ABX9TyMlGI/HjEGCHwaA/wCphJfi",
      "include_colab_link": true
    },
    "kernelspec": {
      "name": "python3",
      "display_name": "Python 3"
    },
    "language_info": {
      "name": "python"
    }
  },
  "cells": [
    {
      "cell_type": "markdown",
      "metadata": {
        "id": "view-in-github",
        "colab_type": "text"
      },
      "source": [
        "<a href=\"https://colab.research.google.com/github/Ugot-Aaron-Paul/58013-LinearAlgebra/blob/main/Lab%204%20-%20VECTOR%20OPERATIONS.ipynb\" target=\"_parent\"><img src=\"https://colab.research.google.com/assets/colab-badge.svg\" alt=\"Open In Colab\"/></a>"
      ]
    },
    {
      "cell_type": "code",
      "execution_count": 7,
      "metadata": {
        "id": "J5K5lp9O4Oah",
        "colab": {
          "base_uri": "https://localhost:8080/"
        },
        "outputId": "0092c6d3-bcda-4c1a-d5a9-dcd96f7c4f90"
      },
      "outputs": [
        {
          "output_type": "stream",
          "name": "stdout",
          "text": [
            "Addition Vector:\n",
            " [ 0.   6.6 -1.1]\n",
            "\n",
            "Dot Product Vector:\n",
            " 0.18000000000000005\n",
            "\n",
            "Cross Product:\n",
            " [-2.4  -0.5  -0.38]\n"
          ]
        }
      ],
      "source": [
        "import numpy as np\n",
        "\n",
        "A = np.array([0.4, 4.3, -0.6])\n",
        "B = np.array([-0.2, 0.2, 1])\n",
        "C = np.array([-0.2, 2.1, -1.5])\n",
        "\n",
        "Ans1 = A + B + C\n",
        "Ans2 = np.dot(A,B)\n",
        "Ans3 = np.cross(B,C)\n",
        "\n",
        "print(\"Addition Vector:\\n\",Ans1)\n",
        "print(\"\\nDot Product Vector:\\n\",Ans2)\n",
        "print(\"\\nCross Product:\\n\", Ans3)"
      ]
    }
  ]
}