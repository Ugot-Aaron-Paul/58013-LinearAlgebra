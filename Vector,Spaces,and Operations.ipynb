{
  "nbformat": 4,
  "nbformat_minor": 0,
  "metadata": {
    "colab": {
      "provenance": [],
      "authorship_tag": "ABX9TyP8H41HbssMqMx10zfPxprm",
      "include_colab_link": true
    },
    "kernelspec": {
      "name": "python3",
      "display_name": "Python 3"
    },
    "language_info": {
      "name": "python"
    }
  },
  "cells": [
    {
      "cell_type": "markdown",
      "metadata": {
        "id": "view-in-github",
        "colab_type": "text"
      },
      "source": [
        "<a href=\"https://colab.research.google.com/github/Ugot-Aaron-Paul/58013-LinearAlgebra/blob/main/Vector%2CSpaces%2Cand%20Operations.ipynb\" target=\"_parent\"><img src=\"https://colab.research.google.com/assets/colab-badge.svg\" alt=\"Open In Colab\"/></a>"
      ]
    },
    {
      "cell_type": "markdown",
      "source": [
        "Vectors"
      ],
      "metadata": {
        "id": "v1aLXewdin6n"
      }
    },
    {
      "cell_type": "code",
      "execution_count": 7,
      "metadata": {
        "id": "NbADuLQkonqG",
        "colab": {
          "base_uri": "https://localhost:8080/"
        },
        "outputId": "bb7b23a7-84ff-449d-be82-0fbce46e0c25"
      },
      "outputs": [
        {
          "output_type": "stream",
          "name": "stdout",
          "text": [
            "Vector A is  [4 3]\n",
            "Vector B is  [ 2 -5]\n"
          ]
        }
      ],
      "source": [
        "import numpy as np\n",
        "\n",
        "A = np.array([4,3])\n",
        "B = np.array([2, -5])\n",
        "print('Vector A is ', A)\n",
        "print('Vector B is ', B)"
      ]
    },
    {
      "cell_type": "markdown",
      "source": [
        "Shape of the Matrix"
      ],
      "metadata": {
        "id": "reX3oMRyjKOZ"
      }
    },
    {
      "cell_type": "code",
      "source": [
        "ball1 = np.array([1,2,3])\n",
        "ball2 = np.array([0,1,-1])\n",
        "ball = np.shape(ball1) + np.shape(ball2)\n",
        "print(ball)\n",
        "balls = np.ndim(ball1), np.ndim(ball2)\n",
        "print(balls)"
      ],
      "metadata": {
        "colab": {
          "base_uri": "https://localhost:8080/"
        },
        "id": "VPoyVwjChmN4",
        "outputId": "2815ce6c-b74f-49a0-9ad4-f70f4f2ae2be"
      },
      "execution_count": 20,
      "outputs": [
        {
          "output_type": "stream",
          "name": "stdout",
          "text": [
            "(3, 3)\n",
            "(1, 1)\n"
          ]
        }
      ]
    },
    {
      "cell_type": "markdown",
      "source": [
        "Addition"
      ],
      "metadata": {
        "id": "fgQE_ws7isS-"
      }
    },
    {
      "cell_type": "code",
      "source": [
        "R1 = np.array([4,3])\n",
        "R2 = np.array([2,-5])\n",
        "\n",
        "R = np.add(R1,R2)\n",
        "print(R)"
      ],
      "metadata": {
        "colab": {
          "base_uri": "https://localhost:8080/"
        },
        "id": "YfN88mM1iu6y",
        "outputId": "61cf5188-fc06-4aa1-bfc7-446a6130c231"
      },
      "execution_count": 21,
      "outputs": [
        {
          "output_type": "stream",
          "name": "stdout",
          "text": [
            "[ 6 -2]\n"
          ]
        }
      ]
    },
    {
      "cell_type": "markdown",
      "source": [
        "Subtraction"
      ],
      "metadata": {
        "id": "IVHWjC8RxSaT"
      }
    },
    {
      "cell_type": "code",
      "source": [
        "R1 = np.array([4,3])\n",
        "R2 = np.array([2,-5])\n",
        "\n",
        "R = np.subtract(R1,R2)\n",
        "print(R)"
      ],
      "metadata": {
        "colab": {
          "base_uri": "https://localhost:8080/"
        },
        "id": "iXSU2rQFxUot",
        "outputId": "c2738063-9314-48f8-b213-a7eb3c9d3696"
      },
      "execution_count": 22,
      "outputs": [
        {
          "output_type": "stream",
          "name": "stdout",
          "text": [
            "[2 8]\n"
          ]
        }
      ]
    },
    {
      "cell_type": "markdown",
      "source": [
        "Scalar Product"
      ],
      "metadata": {
        "id": "q7xd-cMoxbcU"
      }
    },
    {
      "cell_type": "code",
      "source": [
        "R = np.array([2])\n",
        "V = R*A\n",
        "print(V)"
      ],
      "metadata": {
        "colab": {
          "base_uri": "https://localhost:8080/"
        },
        "id": "mv87Ou2cxfus",
        "outputId": "727ed279-fa4b-43a8-d560-0da544bd92a9"
      },
      "execution_count": 23,
      "outputs": [
        {
          "output_type": "stream",
          "name": "stdout",
          "text": [
            "[8 6]\n"
          ]
        }
      ]
    },
    {
      "cell_type": "markdown",
      "source": [
        "Dot Product"
      ],
      "metadata": {
        "id": "CKuZjLr0xxPC"
      }
    },
    {
      "cell_type": "code",
      "source": [
        "R1 = np.array([4,3])\n",
        "R2 = np.array([2,-5])\n",
        "\n",
        "R = np.dot(R1,R2)\n",
        "print(R)"
      ],
      "metadata": {
        "colab": {
          "base_uri": "https://localhost:8080/"
        },
        "id": "xOxVIApHxwx1",
        "outputId": "f8d04da1-d590-4d8c-b19b-c9d274b96459"
      },
      "execution_count": 24,
      "outputs": [
        {
          "output_type": "stream",
          "name": "stdout",
          "text": [
            "-7\n"
          ]
        }
      ]
    },
    {
      "cell_type": "markdown",
      "source": [
        "Matrix Property"
      ],
      "metadata": {
        "id": "RXn2XA8R1n2v"
      }
    },
    {
      "cell_type": "code",
      "source": [
        "#Identity Matrix\n",
        "c = np.eye(3,3)\n",
        "print(c)\n",
        "\n",
        "#Zero Matrix\n",
        "d = np.zeros([5,5])\n",
        "print(d)\n",
        "\n",
        "#Null Matrix\n",
        "e = np.full((3,3),7)\n",
        "print(e)\n",
        "\n",
        "#Transpose Matrix\n",
        "f = np.transpose(A)\n",
        "print(f)"
      ],
      "metadata": {
        "colab": {
          "base_uri": "https://localhost:8080/"
        },
        "id": "s5RtK0nC1q0G",
        "outputId": "56ebffa9-07c1-456b-cbfb-f4a6a41f143a"
      },
      "execution_count": 27,
      "outputs": [
        {
          "output_type": "stream",
          "name": "stdout",
          "text": [
            "[[1. 0. 0.]\n",
            " [0. 1. 0.]\n",
            " [0. 0. 1.]]\n",
            "[[0. 0. 0. 0. 0.]\n",
            " [0. 0. 0. 0. 0.]\n",
            " [0. 0. 0. 0. 0.]\n",
            " [0. 0. 0. 0. 0.]\n",
            " [0. 0. 0. 0. 0.]]\n",
            "[[7 7 7]\n",
            " [7 7 7]\n",
            " [7 7 7]]\n",
            "[4 3]\n"
          ]
        }
      ]
    }
  ]
}