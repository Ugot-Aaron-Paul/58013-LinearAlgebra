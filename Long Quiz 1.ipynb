{
  "nbformat": 4,
  "nbformat_minor": 0,
  "metadata": {
    "colab": {
      "provenance": [],
      "authorship_tag": "ABX9TyO5cogQkvAlf6knneANOAGY",
      "include_colab_link": true
    },
    "kernelspec": {
      "name": "python3",
      "display_name": "Python 3"
    },
    "language_info": {
      "name": "python"
    }
  },
  "cells": [
    {
      "cell_type": "markdown",
      "metadata": {
        "id": "view-in-github",
        "colab_type": "text"
      },
      "source": [
        "<a href=\"https://colab.research.google.com/github/Ugot-Aaron-Paul/58013-LinearAlgebra/blob/main/Long%20Quiz%201.ipynb\" target=\"_parent\"><img src=\"https://colab.research.google.com/assets/colab-badge.svg\" alt=\"Open In Colab\"/></a>"
      ]
    },
    {
      "cell_type": "code",
      "execution_count": 39,
      "metadata": {
        "id": "NbADuLQkonqG",
        "colab": {
          "base_uri": "https://localhost:8080/"
        },
        "outputId": "96e0edd4-4b4e-4290-bd2b-989132ae8eb4"
      },
      "outputs": [
        {
          "output_type": "stream",
          "name": "stdout",
          "text": [
            "Given matrices are:\n",
            "A:\n",
            " [[1 2 3]\n",
            " [4 5 6]]\n",
            "B:\n",
            " [[1 2]\n",
            " [3 4]\n",
            " [5 6]]\n",
            "C:\n",
            " [[1 2 3]\n",
            " [4 5 6]\n",
            " [7 8 9]]\n",
            "D:\n",
            " [[1 2]\n",
            " [3 4]]\n",
            "\n",
            "Questions:\n",
            "a)AB:\n",
            " [[22 28]\n",
            " [49 64]]\n",
            "\n",
            "b)D+D:\n",
            " [[2 4]\n",
            " [6 8]]\n",
            "\n",
            "c)2C:\n",
            " [[ 2  4  6]\n",
            " [ 8 10 12]\n",
            " [14 16 18]]\n"
          ]
        }
      ],
      "source": [
        "import numpy as np\n",
        "\n",
        "A = np.array([[1,2,3],[4,5,6]])\n",
        "B = np.array([[1,2],[3,4],[5,6]])\n",
        "C = np.array([[1,2,3],[4,5,6],[7,8,9]])\n",
        "D = np.array([[1,2],[3,4]])\n",
        "\n",
        "print(\"Given matrices are:\")\n",
        "\n",
        "print(\"A:\\n\",A)\n",
        "\n",
        "print(\"B:\\n\", B)\n",
        "\n",
        "print(\"C:\\n\", C)\n",
        "\n",
        "print(\"D:\\n\", D)\n",
        "\n",
        "a = np.dot(A,B)\n",
        "b = np.add(D,D)\n",
        "c = 2*C\n",
        "\n",
        "print(\"\\nQuestions:\")\n",
        "\n",
        "print(\"a)AB:\\n\",a)\n",
        "\n",
        "print(\"\\nb)D+D:\\n\",b)\n",
        "\n",
        "print(\"\\nc)2C:\\n\",c)"
      ]
    },
    {
      "cell_type": "code",
      "source": [
        "import numpy as np\n",
        "\n",
        "A = np.array([2, 7, 4])\n",
        "B = np.array([3, 9, 8])\n",
        "\n",
        "ans = [(A[1]*B[2])-(A[2]*B[1]), (A[2]*B[0])-(A[0]*B[2]),(A[0]*B[1])-(A[1]*B[0])]\n",
        "\n",
        "print(\"The Cross product of A and B is:\", ans)"
      ],
      "metadata": {
        "colab": {
          "base_uri": "https://localhost:8080/"
        },
        "id": "Jx80_gHVln18",
        "outputId": "3725eaec-1cc0-4cc4-8bc1-fa9faff9e122"
      },
      "execution_count": 45,
      "outputs": [
        {
          "output_type": "stream",
          "name": "stdout",
          "text": [
            "The Cross product of A and B is: [20, -4, -3]\n"
          ]
        }
      ]
    }
  ]
}