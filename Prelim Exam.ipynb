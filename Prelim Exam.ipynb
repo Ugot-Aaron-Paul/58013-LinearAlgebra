{
  "nbformat": 4,
  "nbformat_minor": 0,
  "metadata": {
    "colab": {
      "provenance": [],
      "authorship_tag": "ABX9TyNn+aoxNhheZYwXQ+W+8AvS",
      "include_colab_link": true
    },
    "kernelspec": {
      "name": "python3",
      "display_name": "Python 3"
    },
    "language_info": {
      "name": "python"
    }
  },
  "cells": [
    {
      "cell_type": "markdown",
      "metadata": {
        "id": "view-in-github",
        "colab_type": "text"
      },
      "source": [
        "<a href=\"https://colab.research.google.com/github/Ugot-Aaron-Paul/58013-LinearAlgebra/blob/main/Prelim%20Exam.ipynb\" target=\"_parent\"><img src=\"https://colab.research.google.com/assets/colab-badge.svg\" alt=\"Open In Colab\"/></a>"
      ]
    },
    {
      "cell_type": "markdown",
      "source": [
        "Question 1"
      ],
      "metadata": {
        "id": "-SvB-qqkwoH5"
      }
    },
    {
      "cell_type": "code",
      "execution_count": 6,
      "metadata": {
        "id": "NbADuLQkonqG",
        "colab": {
          "base_uri": "https://localhost:8080/"
        },
        "outputId": "d8568d75-f040-45e0-c5cd-7cc93fdfef28"
      },
      "outputs": [
        {
          "output_type": "stream",
          "name": "stdout",
          "text": [
            "[[  1   2   3   4   5   6   7   8   9  10]\n",
            " [  2   4   6   8  10  12  14  16  18  20]\n",
            " [  3   6   9  12  15  18  21  24  27  30]\n",
            " [  4   8  12  16  20  24  28  32  36  40]\n",
            " [  5  10  15  20  25  30  35  40  45  50]\n",
            " [  6  12  18  24  30  36  42  48  54  60]\n",
            " [  7  14  21  28  35  42  49  56  63  70]\n",
            " [  8  16  24  32  40  48  56  64  72  80]\n",
            " [  9  18  27  36  45  54  63  72  81  90]\n",
            " [ 10  20  30  40  50  60  70  80  90 100]]\n"
          ]
        }
      ],
      "source": [
        "import numpy as np\n",
        "\n",
        "def table(x):\n",
        "    num = np.arange(1, x+1)\n",
        "    return num * num[:, None]\n",
        "\n",
        "print(table(10))"
      ]
    },
    {
      "cell_type": "markdown",
      "source": [
        "Question 2"
      ],
      "metadata": {
        "id": "5sHS6lP1wrOd"
      }
    },
    {
      "cell_type": "code",
      "source": [
        "import numpy as np\n",
        "\n",
        "def table(x):\n",
        "    num = np.arange(1, x+1)\n",
        "    return num * 2 * num[:, None]\n",
        "\n",
        "print(table(10))"
      ],
      "metadata": {
        "colab": {
          "base_uri": "https://localhost:8080/"
        },
        "id": "kfKRGlZyurDA",
        "outputId": "38ebf528-5e8b-4884-cd51-a287366df1d3"
      },
      "execution_count": 1,
      "outputs": [
        {
          "output_type": "stream",
          "name": "stdout",
          "text": [
            "[[  2   4   6   8  10  12  14  16  18  20]\n",
            " [  4   8  12  16  20  24  28  32  36  40]\n",
            " [  6  12  18  24  30  36  42  48  54  60]\n",
            " [  8  16  24  32  40  48  56  64  72  80]\n",
            " [ 10  20  30  40  50  60  70  80  90 100]\n",
            " [ 12  24  36  48  60  72  84  96 108 120]\n",
            " [ 14  28  42  56  70  84  98 112 126 140]\n",
            " [ 16  32  48  64  80  96 112 128 144 160]\n",
            " [ 18  36  54  72  90 108 126 144 162 180]\n",
            " [ 20  40  60  80 100 120 140 160 180 200]]\n"
          ]
        }
      ]
    },
    {
      "cell_type": "markdown",
      "source": [
        "Question 3"
      ],
      "metadata": {
        "id": "wCyUXBmcwsst"
      }
    },
    {
      "cell_type": "code",
      "source": [
        "import numpy as np\n",
        "SM = np.array([[1,0,0],[0,1,0],[0,0,1]])\n",
        "print(\"square matrix that has a diagonal 1's:\\n\", SM)"
      ],
      "metadata": {
        "colab": {
          "base_uri": "https://localhost:8080/"
        },
        "id": "sWgtQc65urX3",
        "outputId": "67d17a4c-3666-46c0-d302-d80fa4b6ef0f"
      },
      "execution_count": 4,
      "outputs": [
        {
          "output_type": "stream",
          "name": "stdout",
          "text": [
            "square matrix that has a diagonal 1's:\n",
            " [[1 0 0]\n",
            " [0 1 0]\n",
            " [0 0 1]]\n"
          ]
        }
      ]
    },
    {
      "cell_type": "markdown",
      "source": [
        "Question 4"
      ],
      "metadata": {
        "id": "ARZuqQC6vuOs"
      }
    },
    {
      "cell_type": "code",
      "source": [
        "import numpy as np\n",
        "\n",
        "matrix = np.array([[1, 2, 3, 4],[5, 6, 7, 8],[9, 10, 11, 12]])\n",
        "\n",
        "print(\"The Matrix is:\\n\", matrix)\n",
        "Size = np.size(matrix)\n",
        "Shape = np.shape(matrix)\n",
        "Dimension = np.ndim(matrix)\n",
        "\n",
        "print(\"\\nThe Size of the matrix is:\", Size, \"\\nThe Shape of the matrix is:\", Shape, \"\\nThe Dimension of the matrix is:\", Dimension)"
      ],
      "metadata": {
        "colab": {
          "base_uri": "https://localhost:8080/"
        },
        "id": "YRq8C1mPuseu",
        "outputId": "9692e157-7355-463a-ba32-e8908b5dfb05"
      },
      "execution_count": 5,
      "outputs": [
        {
          "output_type": "stream",
          "name": "stdout",
          "text": [
            "The Matrix is:\n",
            " [[ 1  2  3  4]\n",
            " [ 5  6  7  8]\n",
            " [ 9 10 11 12]]\n",
            "\n",
            "The Size of the matrix is: 12 \n",
            "The Shape of the matrix is: (3, 4) \n",
            "The Dimension of the matrix is: 2\n"
          ]
        }
      ]
    },
    {
      "cell_type": "markdown",
      "source": [
        "Question 5"
      ],
      "metadata": {
        "id": "PfEfhmj7w1ri"
      }
    },
    {
      "cell_type": "code",
      "source": [
        "import numpy as numpy\n",
        "arrayOne = numpy.array([[5,6,9],[21,18,27]])\n",
        "arrayTwo = numpy.array([[15,33,24],[4,7,1]])\n",
        "\n",
        "print(\"Array 1 is:\\n\",arrayOne)\n",
        "print(\"\\nArray 2 is:\\n\",arrayTwo)\n",
        "Result = numpy.add(arrayOne,arrayTwo)\n",
        "print(\"\\nHere is the Sum of Two Arrays:\\n\", Result)\n",
        "Result ^=2\n",
        "print(\"\\nHere is the square of each element of the sum:\\n\", Result)"
      ],
      "metadata": {
        "colab": {
          "base_uri": "https://localhost:8080/"
        },
        "id": "mZy2tGvYuste",
        "outputId": "9c5a739b-9aa9-4a3d-e61c-57fe17d89ab4"
      },
      "execution_count": 17,
      "outputs": [
        {
          "output_type": "stream",
          "name": "stdout",
          "text": [
            "Array 1 is:\n",
            " [[ 5  6  9]\n",
            " [21 18 27]]\n",
            "\n",
            "Array 2 is:\n",
            " [[15 33 24]\n",
            " [ 4  7  1]]\n",
            "\n",
            "Here is the Sum of Two Arrays:\n",
            " [[20 39 33]\n",
            " [25 25 28]]\n",
            "\n",
            "Here is the square of each element of the sum:\n",
            " [[22 37 35]\n",
            " [27 27 30]]\n"
          ]
        }
      ]
    }
  ]
}