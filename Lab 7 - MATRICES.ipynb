{
  "nbformat": 4,
  "nbformat_minor": 0,
  "metadata": {
    "colab": {
      "provenance": [],
      "authorship_tag": "ABX9TyNcTSWoWiuSH8Oxcrh6Gi5e",
      "include_colab_link": true
    },
    "kernelspec": {
      "name": "python3",
      "display_name": "Python 3"
    },
    "language_info": {
      "name": "python"
    }
  },
  "cells": [
    {
      "cell_type": "markdown",
      "metadata": {
        "id": "view-in-github",
        "colab_type": "text"
      },
      "source": [
        "<a href=\"https://colab.research.google.com/github/Ugot-Aaron-Paul/58013-LinearAlgebra/blob/main/Lab%207%20-%20MATRICES.ipynb\" target=\"_parent\"><img src=\"https://colab.research.google.com/assets/colab-badge.svg\" alt=\"Open In Colab\"/></a>"
      ]
    },
    {
      "cell_type": "code",
      "execution_count": 7,
      "metadata": {
        "id": "NbADuLQkonqG",
        "colab": {
          "base_uri": "https://localhost:8080/"
        },
        "outputId": "31dba583-dbea-4319-a1ee-3a23fbbb95c5"
      },
      "outputs": [
        {
          "output_type": "stream",
          "name": "stdout",
          "text": [
            "Matrix:\n",
            "[[1 2]\n",
            " [3 1]]\n",
            "\n",
            "Shape:\t(2, 2)\n",
            "Rank:\t2\n",
            "\n",
            "Matrix:\n",
            "[[1 1]\n",
            " [2 2]]\n",
            "\n",
            "Shape:\t(2, 2)\n",
            "Rank:\t2\n",
            "\n",
            "Matrix:\n",
            "[[8 2]\n",
            " [5 4]\n",
            " [1 1]]\n",
            "\n",
            "Shape:\t(3, 2)\n",
            "Rank:\t2\n",
            "\n",
            "Matrix:\n",
            "[1 2 3 4 5]\n",
            "\n",
            "Shape:\t(5,)\n",
            "Rank:\t1\n",
            "\n"
          ]
        }
      ],
      "source": [
        "## Since we'll keep on describing matrices. Let's make a function.\n",
        "def describe_mat(matrix):\n",
        "    print(f'Matrix:\\n{matrix}\\n\\nShape:\\t{matrix.shape}\\nRank:\\t{matrix.ndim}\\n')\n",
        "\n",
        "## Declaring a 2 x 2 matrix\n",
        "A = np.array([\n",
        "    [1, 2],\n",
        "    [3, 1]\n",
        "])\n",
        "describe_mat(A)\n",
        "\n",
        "\n",
        "G = np.array([\n",
        "    [1,1],\n",
        "    [2,2]\n",
        "])\n",
        "describe_mat(G)\n",
        "\n",
        "## Declaring a 3 x 2 matrix\n",
        "B = np.array([\n",
        "    [8, 2],\n",
        "    [5, 4],\n",
        "    [1, 1]\n",
        "])\n",
        "describe_mat(B)\n",
        "\n",
        "H = np.array([1,2,3,4,5])\n",
        "describe_mat(H)\n"
      ]
    }
  ]
}