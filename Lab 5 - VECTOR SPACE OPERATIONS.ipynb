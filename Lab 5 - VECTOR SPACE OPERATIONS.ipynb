{
  "nbformat": 4,
  "nbformat_minor": 0,
  "metadata": {
    "colab": {
      "provenance": [],
      "authorship_tag": "ABX9TyNAbVY1M37fJMTo+grHKLFW",
      "include_colab_link": true
    },
    "kernelspec": {
      "name": "python3",
      "display_name": "Python 3"
    },
    "language_info": {
      "name": "python"
    }
  },
  "cells": [
    {
      "cell_type": "markdown",
      "metadata": {
        "id": "view-in-github",
        "colab_type": "text"
      },
      "source": [
        "<a href=\"https://colab.research.google.com/github/Ugot-Aaron-Paul/58013-LinearAlgebra/blob/main/Lab%205%20-%20VECTOR%20SPACE%20OPERATIONS.ipynb\" target=\"_parent\"><img src=\"https://colab.research.google.com/assets/colab-badge.svg\" alt=\"Open In Colab\"/></a>"
      ]
    },
    {
      "cell_type": "markdown",
      "source": [
        "*Scaling*"
      ],
      "metadata": {
        "id": "8-t3TxqZmJq4"
      }
    },
    {
      "cell_type": "code",
      "execution_count": 2,
      "metadata": {
        "id": "NbADuLQkonqG",
        "colab": {
          "base_uri": "https://localhost:8080/"
        },
        "outputId": "01b79540-f7cd-4420-e095-a194c402bba4"
      },
      "outputs": [
        {
          "output_type": "execute_result",
          "data": {
            "text/plain": [
              "array([ 5, 25, 40, 45])"
            ]
          },
          "metadata": {},
          "execution_count": 2
        }
      ],
      "source": [
        "import numpy as np\n",
        "\n",
        "A = np.array([1,5,8,9])\n",
        "S = 5*A\n",
        "S\n",
        "\n",
        "S = np.multiply(5,A)\n",
        "S"
      ]
    },
    {
      "cell_type": "markdown",
      "source": [
        "*Dot Product*"
      ],
      "metadata": {
        "id": "8V3jTCC0mMHa"
      }
    },
    {
      "cell_type": "code",
      "source": [
        "import numpy as n\n",
        "a = [5, 10, 2]\n",
        "b = [2, 4, 3]\n",
        "dotproduct = n.dot(a,b)\n",
        "print('Dot product is:', dotproduct)"
      ],
      "metadata": {
        "colab": {
          "base_uri": "https://localhost:8080/"
        },
        "id": "as8tsMz0mAuY",
        "outputId": "d1330abb-bfee-47c4-d070-5d2baad2ada2"
      },
      "execution_count": 3,
      "outputs": [
        {
          "output_type": "stream",
          "name": "stdout",
          "text": [
            "Dot product is: 56\n"
          ]
        }
      ]
    },
    {
      "cell_type": "markdown",
      "source": [
        "*Cross Product*"
      ],
      "metadata": {
        "id": "0FWgyDaVmQcn"
      }
    },
    {
      "cell_type": "code",
      "source": [
        "import numpy as np\n",
        "p = [4, 2]\n",
        "q = [5, 6]\n",
        "product = np.cross(p,q)\n",
        "print(product)"
      ],
      "metadata": {
        "colab": {
          "base_uri": "https://localhost:8080/"
        },
        "id": "D6DO_sWymEHW",
        "outputId": "7e78a66a-e09f-4859-e118-eb84d13676e9"
      },
      "execution_count": 4,
      "outputs": [
        {
          "output_type": "stream",
          "name": "stdout",
          "text": [
            "14\n"
          ]
        }
      ]
    }
  ]
}