{
  "nbformat": 4,
  "nbformat_minor": 0,
  "metadata": {
    "colab": {
      "provenance": [],
      "authorship_tag": "ABX9TyMBx75kAvyyMuwh9hDlf0lR",
      "include_colab_link": true
    },
    "kernelspec": {
      "name": "python3",
      "display_name": "Python 3"
    },
    "language_info": {
      "name": "python"
    }
  },
  "cells": [
    {
      "cell_type": "markdown",
      "metadata": {
        "id": "view-in-github",
        "colab_type": "text"
      },
      "source": [
        "<a href=\"https://colab.research.google.com/github/Ugot-Aaron-Paul/58013-LinearAlgebra/blob/main/Lab%2010%20-%20SYSTEM%20OF%20LINEAR_EQUATIONS.ipynb\" target=\"_parent\"><img src=\"https://colab.research.google.com/assets/colab-badge.svg\" alt=\"Open In Colab\"/></a>"
      ]
    },
    {
      "cell_type": "code",
      "execution_count": 11,
      "metadata": {
        "id": "J5K5lp9O4Oah",
        "colab": {
          "base_uri": "https://localhost:8080/"
        },
        "outputId": "98999566-7f8a-4665-d708-b379c51c584b"
      },
      "outputs": [
        {
          "output_type": "stream",
          "name": "stdout",
          "text": [
            "Flour price (per stack): 330.0 ₱\n",
            "Yeast price (per stack): 139.99999999999986 ₱\n",
            "Egg price (per stack): 10.00000000000002 ₱\n"
          ]
        }
      ],
      "source": [
        "import numpy as np\n",
        "\n",
        "A = np.array([[30, 10, 120],[40, 20, 200],[50, 40, 360]])\n",
        "\n",
        "B = np.array([12500, 18000, 25700])\n",
        "\n",
        "prices = np.linalg.solve(A, B)\n",
        "\n",
        "flour = prices[0]\n",
        "yeast = prices[1]\n",
        "egg = prices[2]\n",
        "\n",
        "# Print the results\n",
        "print(\"Flour price (per stack):\", flour ,\"₱\")\n",
        "print(\"Yeast price (per stack):\", yeast , \"₱\")\n",
        "print(\"Egg price (per stack):\", egg, \"₱\")"
      ]
    }
  ]
}